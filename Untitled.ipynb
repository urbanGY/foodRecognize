{
 "cells": [
  {
   "cell_type": "code",
   "execution_count": 1,
   "metadata": {},
   "outputs": [
    {
     "name": "stdout",
     "output_type": "stream",
     "text": [
      "WARNING:tensorflow:From c:\\users\\sfsfk\\anaconda3\\envs\\capstone\\lib\\site-packages\\tensorflow_core\\python\\compat\\v2_compat.py:65: disable_resource_variables (from tensorflow.python.ops.variable_scope) is deprecated and will be removed in a future version.\n",
      "Instructions for updating:\n",
      "non-resource variables are not supported in the long term\n",
      "[name: \"/device:CPU:0\"\n",
      "device_type: \"CPU\"\n",
      "memory_limit: 268435456\n",
      "locality {\n",
      "}\n",
      "incarnation: 13944432308438474488\n",
      ", name: \"/device:GPU:0\"\n",
      "device_type: \"GPU\"\n",
      "memory_limit: 1422723891\n",
      "locality {\n",
      "  bus_id: 1\n",
      "  links {\n",
      "  }\n",
      "}\n",
      "incarnation: 16270113544141241315\n",
      "physical_device_desc: \"device: 0, name: GeForce MX150, pci bus id: 0000:01:00.0, compute capability: 6.1\"\n",
      "]\n",
      "tensorflow version :  2.0.0\n",
      "is gpu available??? pease.. :  True\n"
     ]
    }
   ],
   "source": [
    "import imgFetch\n",
    "import numpy as np\n",
    "from PIL import Image\n",
    "\n",
    "import tensorflow.compat.v1 as tf\n",
    "tf.disable_v2_behavior()\n",
    "from tensorflow.python.client import device_lib\n",
    "print(device_lib.list_local_devices())\n",
    "\n",
    "print('tensorflow version : ', tf.__version__)\n",
    "print('is gpu available??? pease.. : ',tf.test.is_gpu_available())\n"
   ]
  },
  {
   "cell_type": "code",
   "execution_count": 2,
   "metadata": {},
   "outputs": [],
   "source": [
    "def _read_py_function(path, label):\n",
    "    img = np.array(Image.open(path))\n",
    "    label = np.array(label, dtype=np.float32)\n",
    "    return img.astype(np.float32), label\n",
    "\n",
    "def get_iterator_next_element():\n",
    "    img_list, label_list = imgFetch.get_path_label(\"한과\")\n",
    "\n",
    "    batch_size = 1\n",
    "    dataset = tf.data.Dataset.from_tensor_slices((img_list, label_list))\n",
    "    dataset = dataset.map(lambda img_list, label_list: tuple(tf.py_func(_read_py_function,[img_list, label_list], [tf.float32, tf.float32])))\n",
    "\n",
    "    dataset = dataset.repeat()\n",
    "    dataset = dataset.shuffle(buffer_size=(int(len(img_list) *0.4) + 3 * batch_size))\n",
    "    dataset = dataset.batch(batch_size)\n",
    "\n",
    "    iterator = dataset.make_initializable_iterator()\n",
    "    next_element = iterator.get_next()\n",
    "    print(\"batch is ready\")\n",
    "    return iterator, next_element"
   ]
  },
  {
   "cell_type": "code",
   "execution_count": 16,
   "metadata": {},
   "outputs": [],
   "source": [
    "def conv_layer(x, kernel_shape, bias_shape, stride, padding, name):\n",
    "    with tf.variable_scope(name, reuse=True) as scope:\n",
    "        W = tf.get_variable('weights', kernel_shape, initializer = tf.random_normal_initializer(mean = 0.0, stddev = 0.01))\n",
    "        b = tf.get_variable('biases', bias_shape, initializer = tf.constant_initializer(0.0))\n",
    "        conv = tf.nn.conv2d(x, W, strides = [1, stride, stride, 1], padding = padding)\n",
    "        return tf.nn.relu(conv + b)\n",
    "\n",
    "def max_pool(x, kernel_shape, stride, padding, name):\n",
    "    return tf.nn.max_pool(x, kernel_shape, strides=[1, stride, stride, 1], padding = padding)"
   ]
  },
  {
   "cell_type": "code",
   "execution_count": 26,
   "metadata": {},
   "outputs": [],
   "source": [
    "def dcnn(x):\n",
    "    # stem\n",
    "    conv_1 = conv_layer(x, [3,3,3,32], [32], 2, 'VALID', 'conv_1')\n",
    "    conv_2 = conv_layer(conv_1, [3,3,32,32], [32], 1, 'VALID', 'conv_2')\n",
    "    conv_3 = conv_layer(conv_2, [3,3,32,64], [64], 1, 'SAME', 'conv_3')\n",
    "\n",
    "    pool_4 = max_pool(conv_3, [1,3,3,1], 2, 'VALID', 'pool_4') # 1\n",
    "    conv_4 = conv_layer(conv_3, [3,3,64,96], [96], 2, 'VALID', 'conv_4') # 2\n",
    "\n",
    "    concat_5 = tf.concat([pool_4, conv_4], axis=3) # 73x73x160\n",
    "\n",
    "    conv_5_1 = conv_layer(concat_5, [1,1,160,64], [64], 1, 'SAME', 'conv_5_1') # 1\n",
    "    conv_6_1 = conv_layer(conv_5_1, [3,3,64,96], [96], 1, 'VALID', 'conv_6_1')\n",
    "\n",
    "    conv_5_2 = conv_layer(concat_5, [1,1,160,64], [64], 1, 'SAME', 'conv_5_2') # 2\n",
    "    conv_6_2 = conv_layer(conv_5_2, [7,1,64,64], [64], 1, 'SAME', 'conv_6_2')\n",
    "    conv_7_2 = conv_layer(conv_6_2, [1,7,64,64], [64], 1, 'SAME', 'conv_7_2')\n",
    "    conv_8_2 = conv_layer(conv_7_2, [3,3,64,96], [96], 1, 'VALID', 'conv_8_2')\n",
    "\n",
    "    concat_9 = tf.concat([conv_6_1, conv_8_2], axis=3) # 71x71x192\n",
    "\n",
    "    conv_10 = conv_layer(concat_9, [3,3,192,192], [192], 2, 'VALID', 'conv_10') # 1\n",
    "    pool_10 = max_pool(concat_9, [1,2,2,1], 2, 'VALID', 'pool_10') # 1\n",
    "\n",
    "    concat_11 = tf.concat([conv_10, pool_10], axis=3) # 71x71x192\n",
    "    print(\"concat 11 shape : \",concat_11.shape)\n",
    "    return concat_11"
   ]
  },
  {
   "cell_type": "code",
   "execution_count": 27,
   "metadata": {},
   "outputs": [],
   "source": [
    "def test():\n",
    "    iterator, next_element = get_iterator_next_element()\n",
    "\n",
    "    img_width = 299\n",
    "    img_height = 299\n",
    "    img_channel = 3\n",
    "    img_result = 150\n",
    "\n",
    "    x = tf.placeholder(tf.float32, shape=[None, img_width, img_height, img_channel])\n",
    "    y = tf.placeholder(tf.float32, shape=[None, img_result])\n",
    "    keep_prob = tf.placeholder(tf.float32)\n",
    "\n",
    "    test = dcnn(x)\n",
    "\n",
    "    with tf.Session() as sess:\n",
    "        sess.run(tf.global_variables_initializer())\n",
    "        sess.run(iterator.initializer)\n",
    "        for i in range(3):\n",
    "            image, label = sess.run(next_element)\n",
    "            _t = sess.run(test, feed_dict={x:image})"
   ]
  },
  {
   "cell_type": "code",
   "execution_count": 28,
   "metadata": {},
   "outputs": [
    {
     "name": "stdout",
     "output_type": "stream",
     "text": [
      "batch is ready\n",
      "concat 11 shape :  (?, 35, 35, 384)\n"
     ]
    }
   ],
   "source": [
    "if __name__ == \"__main__\":\n",
    "    test()"
   ]
  },
  {
   "cell_type": "code",
   "execution_count": null,
   "metadata": {},
   "outputs": [],
   "source": []
  }
 ],
 "metadata": {
  "kernelspec": {
   "display_name": "Python 3",
   "language": "python",
   "name": "python3"
  },
  "language_info": {
   "codemirror_mode": {
    "name": "ipython",
    "version": 3
   },
   "file_extension": ".py",
   "mimetype": "text/x-python",
   "name": "python",
   "nbconvert_exporter": "python",
   "pygments_lexer": "ipython3",
   "version": "3.7.5"
  }
 },
 "nbformat": 4,
 "nbformat_minor": 4
}
